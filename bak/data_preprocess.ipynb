{
 "cells": [
  {
   "cell_type": "code",
   "execution_count": 1,
   "metadata": {},
   "outputs": [],
   "source": [
    "import pandas as pd\n",
    "import numpy as np\n",
    "from sklearn.linear_model import LinearRegression\n",
    "import seaborn as sns\n",
    "import matplotlib.pyplot as plt\n",
    "from sklearn.preprocessing import MinMaxScaler"
   ]
  },
  {
   "cell_type": "code",
   "execution_count": 2,
   "metadata": {},
   "outputs": [],
   "source": [
    "pd.set_option('display.max_columns', None)\n",
    "pd.set_option('display.max_rows', None)"
   ]
  },
  {
   "cell_type": "code",
   "execution_count": null,
   "metadata": {},
   "outputs": [],
   "source": [
    "df = pd.read_csv('mro_daily_clean.csv')"
   ]
  },
  {
   "cell_type": "markdown",
   "metadata": {},
   "source": [
    "### group to weekly level"
   ]
  },
  {
   "cell_type": "code",
   "execution_count": 4,
   "metadata": {},
   "outputs": [
    {
     "data": {
      "text/plain": [
       "Index(['yr_nbr', 'mth_nbr', 'week_nbr', 'week_day', 'hard_braking', 'mild_hb',\n",
       "       'hard_braking2', 'harsh_hb', 'very_harsh_hb', 'est_hh_incm_prmr_cd',\n",
       "       'purchaser_age_at_tm_of_purch', 'input_indiv_gndr_prmr_cd',\n",
       "       'gmqualty_model', 'umf_xref_finc_gbl_trim', 'engn_size',\n",
       "       'hard_acceleration', 'mild_ha', 'harsh_ha', 'very_harsh_ha',\n",
       "       'vin_nbr_id', 'speeding_sum', 'speeding2_sum', 'day_mileage', 'id',\n",
       "       'day_indicator', 'service_days', 'battery_dummy', 'brake_dummy',\n",
       "       'tire_dummy', 'lof_dummy', 'wiper_dummy', 'filter_dummy', 'others',\n",
       "       'mro', 'record_days', 'latitude1', 'longitude1', 'purchase_lat1',\n",
       "       'purchase_lng1', 'purchase_yr_nbr', 'purchase_mth_nbr', 'tavg',\n",
       "       'random_avg_traffic'],\n",
       "      dtype='object')"
      ]
     },
     "execution_count": 4,
     "metadata": {},
     "output_type": "execute_result"
    }
   ],
   "source": [
    "df.columns"
   ]
  },
  {
   "cell_type": "code",
   "execution_count": 5,
   "metadata": {},
   "outputs": [
    {
     "data": {
      "text/plain": [
       "battery_dummy    0.003889\n",
       "brake_dummy      0.001638\n",
       "tire_dummy       0.018202\n",
       "lof_dummy        0.620093\n",
       "wiper_dummy      0.005081\n",
       "filter_dummy     0.019343\n",
       "others           0.357591\n",
       "mro              1.000000\n",
       "dtype: float64"
      ]
     },
     "execution_count": 5,
     "metadata": {},
     "output_type": "execute_result"
    }
   ],
   "source": [
    "df[['battery_dummy', 'brake_dummy','tire_dummy', 'lof_dummy', 'wiper_dummy', 'filter_dummy', 'others','mro']].sum() / df['mro'].sum()"
   ]
  },
  {
   "cell_type": "code",
   "execution_count": 6,
   "metadata": {},
   "outputs": [],
   "source": [
    "df['mro_new'] = df['tire_dummy'] + df['lof_dummy'] + df['wiper_dummy'] + df['others']"
   ]
  },
  {
   "cell_type": "code",
   "execution_count": null,
   "metadata": {},
   "outputs": [],
   "source": [
    "df = df[\n",
    "    [\n",
    "        \"id\",\n",
    "        \"yr_nbr\",\n",
    "        \"mth_nbr\",\n",
    "        \"week_nbr\",\n",
    "        \"est_hh_incm_prmr_cd\",\n",
    "        \"purchaser_age_at_tm_of_purch\",\n",
    "        \"input_indiv_gndr_prmr_cd\",\n",
    "        \"gmqualty_model\",\n",
    "        \"umf_xref_finc_gbl_trim\",\n",
    "        \"engn_size\",\n",
    "        \"hard_braking\",\n",
    "        \"hard_acceleration\",\n",
    "        \"speeding_sum\",\n",
    "        \"day_mileage\",\n",
    "        \"mro_new\",\n",
    "        \"record_days\",\n",
    "        \"purchase_yr_nbr\",\n",
    "        \"purchase_mth_nbr\",\n",
    "        \"tavg\",\n",
    "        \"random_avg_traffic\",\n",
    "    ]\n",
    "]"
   ]
  },
  {
   "cell_type": "code",
   "execution_count": null,
   "metadata": {},
   "outputs": [],
   "source": [
    "df[\"purchase_time\"] = (\n",
    "    df[\"purchase_yr_nbr\"].astype(int).astype(str)\n",
    "    + \"-\"\n",
    "    + df[\"purchase_mth_nbr\"].astype(int).astype(str)\n",
    ")\n",
    "df = df.drop([\"purchase_yr_nbr\", \"purchase_mth_nbr\"], axis=1)"
   ]
  },
  {
   "cell_type": "code",
   "execution_count": null,
   "metadata": {},
   "outputs": [],
   "source": [
    "#robustness check: divide into repair/maintenance\n",
    "df['maintenance'] = np.where((df['mro'] == 1) & (df['service_days'] <= 3), 1, 0)\n",
    "df['repair'] = np.where((df['mro'] == 1) & (df['service_days'] > 3), 1, 0)"
   ]
  },
  {
   "cell_type": "code",
   "execution_count": null,
   "metadata": {},
   "outputs": [],
   "source": [
    "#robustness check: traffic density\n",
    "df['traffic_count'] = df.groupby(['yr_nbr', 'mth_nbr', 'week_nbr', 'week_day', 'latitude1', 'longitude1'])['yr_nbr'].transform('size')"
   ]
  },
  {
   "cell_type": "code",
   "execution_count": null,
   "metadata": {},
   "outputs": [],
   "source": [
    "#robustness check: another proxy for driving behavior features\n",
    "df['hard_braking_sum'] = df['mild_hb'] + df['harsh_hb'] + df['very_harsh_hb']\n",
    "df['hard_acceleration_sum'] = df['mild_ha'] + df['harsh_ha'] + df['very_harsh_ha']"
   ]
  },
  {
   "cell_type": "code",
   "execution_count": 9,
   "metadata": {},
   "outputs": [],
   "source": [
    "weekly_level = df.groupby(['id','yr_nbr','week_nbr']).agg({\n",
    "    'mth_nbr':'first',\n",
    "    'mro_new':'sum',\n",
    "    'hard_braking':'sum',\n",
    "    'hard_acceleration':'sum',\n",
    "    'speeding_sum':'sum',\n",
    "    'day_mileage':'sum',\n",
    "    'est_hh_incm_prmr_cd':'first',\n",
    "    'purchaser_age_at_tm_of_purch':'first',\n",
    "    'input_indiv_gndr_prmr_cd':'first',\n",
    "    'gmqualty_model':'first',\n",
    "    'umf_xref_finc_gbl_trim':'first',\n",
    "    'engn_size':'first',\n",
    "    'purchase_time':'first',\n",
    "    'tavg':'mean',\n",
    "    'record_days':'first',\n",
    "    'random_avg_traffic':'mean'})\n",
    "weekly_level_new = weekly_level.reset_index()\n",
    "#grouped = grouped.drop(['yr_nbr','mth_nbr'], axis=1)"
   ]
  },
  {
   "cell_type": "code",
   "execution_count": 10,
   "metadata": {},
   "outputs": [
    {
     "data": {
      "text/plain": [
       "(3972103, 19)"
      ]
     },
     "execution_count": 10,
     "metadata": {},
     "output_type": "execute_result"
    }
   ],
   "source": [
    "weekly_level_new.shape"
   ]
  },
  {
   "cell_type": "code",
   "execution_count": 11,
   "metadata": {},
   "outputs": [
    {
     "data": {
      "text/html": [
       "<div>\n",
       "<style scoped>\n",
       "    .dataframe tbody tr th:only-of-type {\n",
       "        vertical-align: middle;\n",
       "    }\n",
       "\n",
       "    .dataframe tbody tr th {\n",
       "        vertical-align: top;\n",
       "    }\n",
       "\n",
       "    .dataframe thead th {\n",
       "        text-align: right;\n",
       "    }\n",
       "</style>\n",
       "<table border=\"1\" class=\"dataframe\">\n",
       "  <thead>\n",
       "    <tr style=\"text-align: right;\">\n",
       "      <th></th>\n",
       "      <th>id</th>\n",
       "      <th>yr_nbr</th>\n",
       "      <th>week_nbr</th>\n",
       "      <th>mth_nbr</th>\n",
       "      <th>mro_new</th>\n",
       "      <th>hard_braking</th>\n",
       "      <th>hard_acceleration</th>\n",
       "      <th>speeding_sum</th>\n",
       "      <th>day_mileage</th>\n",
       "      <th>est_hh_incm_prmr_cd</th>\n",
       "      <th>purchaser_age_at_tm_of_purch</th>\n",
       "      <th>input_indiv_gndr_prmr_cd</th>\n",
       "      <th>gmqualty_model</th>\n",
       "      <th>umf_xref_finc_gbl_trim</th>\n",
       "      <th>engn_size</th>\n",
       "      <th>purchase_time</th>\n",
       "      <th>tavg</th>\n",
       "      <th>record_days</th>\n",
       "      <th>random_avg_traffic</th>\n",
       "    </tr>\n",
       "  </thead>\n",
       "  <tbody>\n",
       "    <tr>\n",
       "      <th>0</th>\n",
       "      <td>w4HClcKnwrzCv8KgwrjDi8Klwr3Cm8KVwqfCrsKowprClg==</td>\n",
       "      <td>2018</td>\n",
       "      <td>1</td>\n",
       "      <td>12</td>\n",
       "      <td>0.0</td>\n",
       "      <td>1</td>\n",
       "      <td>1</td>\n",
       "      <td>0.0</td>\n",
       "      <td>6.203125</td>\n",
       "      <td>6.0</td>\n",
       "      <td>54.0</td>\n",
       "      <td>F</td>\n",
       "      <td>Regal</td>\n",
       "      <td>BASE_TRIM</td>\n",
       "      <td>2.0</td>\n",
       "      <td>2018-1</td>\n",
       "      <td>5.048431</td>\n",
       "      <td>596</td>\n",
       "      <td>12886.225115</td>\n",
       "    </tr>\n",
       "    <tr>\n",
       "      <th>1</th>\n",
       "      <td>w4HClcKnwrzCv8KgwrjDi8Klwr3Cm8KVwqfCrsKowprClg==</td>\n",
       "      <td>2018</td>\n",
       "      <td>3</td>\n",
       "      <td>1</td>\n",
       "      <td>0.0</td>\n",
       "      <td>1</td>\n",
       "      <td>0</td>\n",
       "      <td>4.0</td>\n",
       "      <td>32.968750</td>\n",
       "      <td>6.0</td>\n",
       "      <td>54.0</td>\n",
       "      <td>F</td>\n",
       "      <td>Regal</td>\n",
       "      <td>BASE_TRIM</td>\n",
       "      <td>2.0</td>\n",
       "      <td>2018-1</td>\n",
       "      <td>15.092748</td>\n",
       "      <td>596</td>\n",
       "      <td>14554.620499</td>\n",
       "    </tr>\n",
       "    <tr>\n",
       "      <th>2</th>\n",
       "      <td>w4HClcKnwrzCv8KgwrjDi8Klwr3Cm8KVwqfCrsKowprClg==</td>\n",
       "      <td>2018</td>\n",
       "      <td>4</td>\n",
       "      <td>1</td>\n",
       "      <td>0.0</td>\n",
       "      <td>39</td>\n",
       "      <td>5</td>\n",
       "      <td>21.0</td>\n",
       "      <td>319.812500</td>\n",
       "      <td>6.0</td>\n",
       "      <td>54.0</td>\n",
       "      <td>F</td>\n",
       "      <td>Regal</td>\n",
       "      <td>BASE_TRIM</td>\n",
       "      <td>2.0</td>\n",
       "      <td>2018-1</td>\n",
       "      <td>15.273847</td>\n",
       "      <td>596</td>\n",
       "      <td>14559.007102</td>\n",
       "    </tr>\n",
       "    <tr>\n",
       "      <th>3</th>\n",
       "      <td>w4HClcKnwrzCv8KgwrjDi8Klwr3Cm8KVwqfCrsKowprClg==</td>\n",
       "      <td>2018</td>\n",
       "      <td>5</td>\n",
       "      <td>1</td>\n",
       "      <td>0.0</td>\n",
       "      <td>60</td>\n",
       "      <td>12</td>\n",
       "      <td>33.0</td>\n",
       "      <td>541.687500</td>\n",
       "      <td>6.0</td>\n",
       "      <td>54.0</td>\n",
       "      <td>F</td>\n",
       "      <td>Regal</td>\n",
       "      <td>BASE_TRIM</td>\n",
       "      <td>2.0</td>\n",
       "      <td>2018-1</td>\n",
       "      <td>15.005342</td>\n",
       "      <td>596</td>\n",
       "      <td>14433.908044</td>\n",
       "    </tr>\n",
       "    <tr>\n",
       "      <th>4</th>\n",
       "      <td>w4HClcKnwrzCv8KgwrjDi8Klwr3Cm8KVwqfCrsKowprClg==</td>\n",
       "      <td>2018</td>\n",
       "      <td>6</td>\n",
       "      <td>2</td>\n",
       "      <td>0.0</td>\n",
       "      <td>50</td>\n",
       "      <td>10</td>\n",
       "      <td>46.0</td>\n",
       "      <td>352.406250</td>\n",
       "      <td>6.0</td>\n",
       "      <td>54.0</td>\n",
       "      <td>F</td>\n",
       "      <td>Regal</td>\n",
       "      <td>BASE_TRIM</td>\n",
       "      <td>2.0</td>\n",
       "      <td>2018-1</td>\n",
       "      <td>14.859090</td>\n",
       "      <td>596</td>\n",
       "      <td>14390.440682</td>\n",
       "    </tr>\n",
       "  </tbody>\n",
       "</table>\n",
       "</div>"
      ],
      "text/plain": [
       "                                                 id  yr_nbr  week_nbr  \\\n",
       "0  w4HClcKnwrzCv8KgwrjDi8Klwr3Cm8KVwqfCrsKowprClg==    2018         1   \n",
       "1  w4HClcKnwrzCv8KgwrjDi8Klwr3Cm8KVwqfCrsKowprClg==    2018         3   \n",
       "2  w4HClcKnwrzCv8KgwrjDi8Klwr3Cm8KVwqfCrsKowprClg==    2018         4   \n",
       "3  w4HClcKnwrzCv8KgwrjDi8Klwr3Cm8KVwqfCrsKowprClg==    2018         5   \n",
       "4  w4HClcKnwrzCv8KgwrjDi8Klwr3Cm8KVwqfCrsKowprClg==    2018         6   \n",
       "\n",
       "   mth_nbr  mro_new  hard_braking  hard_acceleration  speeding_sum  \\\n",
       "0       12      0.0             1                  1           0.0   \n",
       "1        1      0.0             1                  0           4.0   \n",
       "2        1      0.0            39                  5          21.0   \n",
       "3        1      0.0            60                 12          33.0   \n",
       "4        2      0.0            50                 10          46.0   \n",
       "\n",
       "   day_mileage  est_hh_incm_prmr_cd  purchaser_age_at_tm_of_purch  \\\n",
       "0     6.203125                  6.0                          54.0   \n",
       "1    32.968750                  6.0                          54.0   \n",
       "2   319.812500                  6.0                          54.0   \n",
       "3   541.687500                  6.0                          54.0   \n",
       "4   352.406250                  6.0                          54.0   \n",
       "\n",
       "  input_indiv_gndr_prmr_cd gmqualty_model umf_xref_finc_gbl_trim  engn_size  \\\n",
       "0                        F          Regal              BASE_TRIM        2.0   \n",
       "1                        F          Regal              BASE_TRIM        2.0   \n",
       "2                        F          Regal              BASE_TRIM        2.0   \n",
       "3                        F          Regal              BASE_TRIM        2.0   \n",
       "4                        F          Regal              BASE_TRIM        2.0   \n",
       "\n",
       "  purchase_time       tavg  record_days  random_avg_traffic  \n",
       "0        2018-1   5.048431          596        12886.225115  \n",
       "1        2018-1  15.092748          596        14554.620499  \n",
       "2        2018-1  15.273847          596        14559.007102  \n",
       "3        2018-1  15.005342          596        14433.908044  \n",
       "4        2018-1  14.859090          596        14390.440682  "
      ]
     },
     "execution_count": 11,
     "metadata": {},
     "output_type": "execute_result"
    }
   ],
   "source": [
    "weekly_level_new.head()"
   ]
  },
  {
   "cell_type": "code",
   "execution_count": 12,
   "metadata": {},
   "outputs": [
    {
     "name": "stderr",
     "output_type": "stream",
     "text": [
      "C:\\Users\\Jieyi Zhang\\AppData\\Local\\Temp\\ipykernel_13272\\1444146333.py:1: SettingWithCopyWarning: \n",
      "A value is trying to be set on a copy of a slice from a DataFrame\n",
      "\n",
      "See the caveats in the documentation: https://pandas.pydata.org/pandas-docs/stable/user_guide/indexing.html#returning-a-view-versus-a-copy\n",
      "  weekly_level_new['mro_new'][weekly_level_new['mro_new'] >= 1] = 1\n"
     ]
    }
   ],
   "source": [
    "weekly_level_new['mro_new'][weekly_level_new['mro_new'] >= 1] = 1"
   ]
  },
  {
   "cell_type": "code",
   "execution_count": null,
   "metadata": {},
   "outputs": [],
   "source": [
    "weekly_level_new['mro'][weekly_level_new['mro'] >= 1] = 1\n",
    "weekly_level_new['repair'][weekly_level_new['repair'] >= 1] = 1\n",
    "weekly_level_new['maintenance'][weekly_level_new['maintenance'] >= 1] = 1"
   ]
  },
  {
   "cell_type": "markdown",
   "metadata": {},
   "source": [
    "### Clean weekly level data for prediction"
   ]
  },
  {
   "cell_type": "markdown",
   "metadata": {},
   "source": [
    "#### Step1. Select vehicles with records >= 120 days."
   ]
  },
  {
   "cell_type": "code",
   "execution_count": 13,
   "metadata": {},
   "outputs": [
    {
     "data": {
      "text/plain": [
       "(3434762, 19)"
      ]
     },
     "execution_count": 13,
     "metadata": {},
     "output_type": "execute_result"
    }
   ],
   "source": [
    "weekly_level_filter = weekly_level_new[weekly_level_new['record_days'] >= 120]\n",
    "weekly_level_filter.shape"
   ]
  },
  {
   "cell_type": "code",
   "execution_count": 14,
   "metadata": {},
   "outputs": [
    {
     "data": {
      "text/plain": [
       "58839"
      ]
     },
     "execution_count": 14,
     "metadata": {},
     "output_type": "execute_result"
    }
   ],
   "source": [
    "len(weekly_level_filter['id'].unique())"
   ]
  },
  {
   "cell_type": "markdown",
   "metadata": {},
   "source": [
    "#### Step2. Remove Outliers."
   ]
  },
  {
   "cell_type": "code",
   "execution_count": 15,
   "metadata": {},
   "outputs": [],
   "source": [
    "low = weekly_level_filter['random_avg_traffic'].quantile(0.025)\n",
    "high = weekly_level_filter['random_avg_traffic'].quantile(0.975)"
   ]
  },
  {
   "cell_type": "code",
   "execution_count": 16,
   "metadata": {},
   "outputs": [],
   "source": [
    "weekly_level_filter.loc[weekly_level_filter['random_avg_traffic'] <= low, 'random_avg_traffic'] = low\n",
    "weekly_level_filter.loc[weekly_level_filter['random_avg_traffic'] >= high, 'random_avg_traffic'] = high"
   ]
  },
  {
   "cell_type": "code",
   "execution_count": 17,
   "metadata": {},
   "outputs": [
    {
     "name": "stderr",
     "output_type": "stream",
     "text": [
      "C:\\Users\\Jieyi Zhang\\AppData\\Local\\Temp\\ipykernel_13272\\1365610199.py:2: SettingWithCopyWarning: \n",
      "A value is trying to be set on a copy of a slice from a DataFrame.\n",
      "Try using .loc[row_indexer,col_indexer] = value instead\n",
      "\n",
      "See the caveats in the documentation: https://pandas.pydata.org/pandas-docs/stable/user_guide/indexing.html#returning-a-view-versus-a-copy\n",
      "  weekly_level_filter['random_avg_traffic'] = scaler.fit_transform(weekly_level_filter[['random_avg_traffic']])\n"
     ]
    }
   ],
   "source": [
    "scaler = MinMaxScaler()\n",
    "weekly_level_filter['random_avg_traffic'] = scaler.fit_transform(weekly_level_filter[['random_avg_traffic']])"
   ]
  },
  {
   "cell_type": "code",
   "execution_count": 18,
   "metadata": {},
   "outputs": [
    {
     "data": {
      "text/plain": [
       "Index(['id', 'yr_nbr', 'week_nbr', 'mth_nbr', 'mro_new', 'hard_braking',\n",
       "       'hard_acceleration', 'speeding_sum', 'day_mileage',\n",
       "       'est_hh_incm_prmr_cd', 'purchaser_age_at_tm_of_purch',\n",
       "       'input_indiv_gndr_prmr_cd', 'gmqualty_model', 'umf_xref_finc_gbl_trim',\n",
       "       'engn_size', 'purchase_time', 'tavg', 'record_days',\n",
       "       'random_avg_traffic'],\n",
       "      dtype='object')"
      ]
     },
     "execution_count": 18,
     "metadata": {},
     "output_type": "execute_result"
    }
   ],
   "source": [
    "weekly_level_filter.columns"
   ]
  },
  {
   "cell_type": "code",
   "execution_count": 39,
   "metadata": {},
   "outputs": [],
   "source": [
    "id_info = weekly_level_filter.groupby('id').agg({\n",
    "    'mro':'sum',\n",
    "    'record_weeks':'first',\n",
    "    'hard_braking':'mean',\n",
    "    'hard_acceleration':'mean',\n",
    "    'speeding_sum':'mean',\n",
    "    'day_mileage': 'mean',\n",
    "    'est_hh_incm_prmr_cd':'first',\n",
    "    'purchaser_age_at_tm_of_purch':'first',\n",
    "    'input_indiv_gndr_prmr_cd':'first',\n",
    "    'gmqualty_model':'first',\n",
    "    'umf_xref_finc_gbl_trim':'first',\n",
    "    'engn_size':'first',\n",
    "    'purchase_time':'first',\n",
    "    'tavg':'mean',\n",
    "    'random_avg_traffic':'mean'\n",
    "})\n",
    "id_info['mro_freq'] = id_info['mro'] / id_info['record_weeks']"
   ]
  },
  {
   "cell_type": "code",
   "execution_count": 19,
   "metadata": {},
   "outputs": [],
   "source": [
    "df = weekly_level_filter.copy()\n",
    "df['input_indiv_gndr_prmr_cd'] = df['input_indiv_gndr_prmr_cd'].replace({'F': 0, 'M': 1})\n",
    "df['input_indiv_gndr_prmr_cd'] = df['input_indiv_gndr_prmr_cd'].astype('int')\n",
    "#df['Hard Braking per mile'] = df['hard_braking_sum'] / df['day_mileage']\n",
    "#df['Hard Acceleration per mile'] = df['hard_acceleration_sum'] / df['day_mileage']\n",
    "#df['Speeding per mile'] = df['speeding2_sum'] / df['day_mileage']\n",
    "#df = df.drop(['hard_braking_sum', 'hard_acceleration_sum', 'speeding2_sum', 'day_mileage'], axis=1)\n",
    "df = df.fillna(0)"
   ]
  },
  {
   "cell_type": "code",
   "execution_count": 61,
   "metadata": {},
   "outputs": [],
   "source": [
    "low = df['traffic_count'].quantile(0.025)\n",
    "high = df['traffic_count'].quantile(0.975)\n",
    "df.loc[df['traffic_count'] <= low, 'traffic_count'] = low\n",
    "df.loc[df['traffic_count'] >= high, 'traffic_count'] = high\n",
    "scaler = MinMaxScaler()\n",
    "df['traffic_2'] = scaler.fit_transform(df[['traffic_count']])\n",
    "weekly_level_filter = df.drop('traffic_count', axis=1)"
   ]
  },
  {
   "cell_type": "code",
   "execution_count": 23,
   "metadata": {},
   "outputs": [],
   "source": [
    "weekly_level_filter = df.copy()\n",
    "columns_to_filter = ['hard_braking','hard_acceleration', 'speeding_sum', 'day_mileage']\n",
    "\n",
    "percentile_5 = weekly_level_filter[columns_to_filter].quantile(0.025)\n",
    "percentile_95 = weekly_level_filter[columns_to_filter].quantile(0.975)\n",
    "\n",
    "filtered_data = weekly_level_filter[columns_to_filter].apply(\n",
    "    lambda x: x[(x >= percentile_5[x.name]) & (x <= percentile_95[x.name])]\n",
    ")\n",
    "\n",
    "filtered_indices = filtered_data.dropna().index\n",
    "weekly_level_filter_1 = weekly_level_filter.loc[filtered_indices]"
   ]
  },
  {
   "cell_type": "code",
   "execution_count": 24,
   "metadata": {},
   "outputs": [
    {
     "data": {
      "text/plain": [
       "(3071095, 19)"
      ]
     },
     "execution_count": 24,
     "metadata": {},
     "output_type": "execute_result"
    }
   ],
   "source": [
    "weekly_level_filter_1.shape"
   ]
  },
  {
   "cell_type": "code",
   "execution_count": 25,
   "metadata": {},
   "outputs": [
    {
     "data": {
      "text/html": [
       "<div>\n",
       "<style scoped>\n",
       "    .dataframe tbody tr th:only-of-type {\n",
       "        vertical-align: middle;\n",
       "    }\n",
       "\n",
       "    .dataframe tbody tr th {\n",
       "        vertical-align: top;\n",
       "    }\n",
       "\n",
       "    .dataframe thead th {\n",
       "        text-align: right;\n",
       "    }\n",
       "</style>\n",
       "<table border=\"1\" class=\"dataframe\">\n",
       "  <thead>\n",
       "    <tr style=\"text-align: right;\">\n",
       "      <th></th>\n",
       "      <th>id</th>\n",
       "      <th>yr_nbr</th>\n",
       "      <th>week_nbr</th>\n",
       "      <th>mth_nbr</th>\n",
       "      <th>mro_new</th>\n",
       "      <th>hard_braking</th>\n",
       "      <th>hard_acceleration</th>\n",
       "      <th>speeding_sum</th>\n",
       "      <th>day_mileage</th>\n",
       "      <th>est_hh_incm_prmr_cd</th>\n",
       "      <th>purchaser_age_at_tm_of_purch</th>\n",
       "      <th>input_indiv_gndr_prmr_cd</th>\n",
       "      <th>gmqualty_model</th>\n",
       "      <th>umf_xref_finc_gbl_trim</th>\n",
       "      <th>engn_size</th>\n",
       "      <th>purchase_time</th>\n",
       "      <th>tavg</th>\n",
       "      <th>record_days</th>\n",
       "      <th>random_avg_traffic</th>\n",
       "    </tr>\n",
       "  </thead>\n",
       "  <tbody>\n",
       "    <tr>\n",
       "      <th>1</th>\n",
       "      <td>w4HClcKnwrzCv8KgwrjDi8Klwr3Cm8KVwqfCrsKowprClg==</td>\n",
       "      <td>2018</td>\n",
       "      <td>3</td>\n",
       "      <td>1</td>\n",
       "      <td>0.0</td>\n",
       "      <td>1</td>\n",
       "      <td>0</td>\n",
       "      <td>4.0</td>\n",
       "      <td>32.968750</td>\n",
       "      <td>6.0</td>\n",
       "      <td>54.0</td>\n",
       "      <td>0</td>\n",
       "      <td>Regal</td>\n",
       "      <td>BASE_TRIM</td>\n",
       "      <td>2.0</td>\n",
       "      <td>2018-1</td>\n",
       "      <td>15.092748</td>\n",
       "      <td>596</td>\n",
       "      <td>0.246767</td>\n",
       "    </tr>\n",
       "    <tr>\n",
       "      <th>2</th>\n",
       "      <td>w4HClcKnwrzCv8KgwrjDi8Klwr3Cm8KVwqfCrsKowprClg==</td>\n",
       "      <td>2018</td>\n",
       "      <td>4</td>\n",
       "      <td>1</td>\n",
       "      <td>0.0</td>\n",
       "      <td>39</td>\n",
       "      <td>5</td>\n",
       "      <td>21.0</td>\n",
       "      <td>319.812500</td>\n",
       "      <td>6.0</td>\n",
       "      <td>54.0</td>\n",
       "      <td>0</td>\n",
       "      <td>Regal</td>\n",
       "      <td>BASE_TRIM</td>\n",
       "      <td>2.0</td>\n",
       "      <td>2018-1</td>\n",
       "      <td>15.273847</td>\n",
       "      <td>596</td>\n",
       "      <td>0.246881</td>\n",
       "    </tr>\n",
       "    <tr>\n",
       "      <th>3</th>\n",
       "      <td>w4HClcKnwrzCv8KgwrjDi8Klwr3Cm8KVwqfCrsKowprClg==</td>\n",
       "      <td>2018</td>\n",
       "      <td>5</td>\n",
       "      <td>1</td>\n",
       "      <td>0.0</td>\n",
       "      <td>60</td>\n",
       "      <td>12</td>\n",
       "      <td>33.0</td>\n",
       "      <td>541.687500</td>\n",
       "      <td>6.0</td>\n",
       "      <td>54.0</td>\n",
       "      <td>0</td>\n",
       "      <td>Regal</td>\n",
       "      <td>BASE_TRIM</td>\n",
       "      <td>2.0</td>\n",
       "      <td>2018-1</td>\n",
       "      <td>15.005342</td>\n",
       "      <td>596</td>\n",
       "      <td>0.243615</td>\n",
       "    </tr>\n",
       "    <tr>\n",
       "      <th>5</th>\n",
       "      <td>w4HClcKnwrzCv8KgwrjDi8Klwr3Cm8KVwqfCrsKowprClg==</td>\n",
       "      <td>2018</td>\n",
       "      <td>7</td>\n",
       "      <td>2</td>\n",
       "      <td>0.0</td>\n",
       "      <td>38</td>\n",
       "      <td>5</td>\n",
       "      <td>22.0</td>\n",
       "      <td>267.828125</td>\n",
       "      <td>6.0</td>\n",
       "      <td>54.0</td>\n",
       "      <td>0</td>\n",
       "      <td>Regal</td>\n",
       "      <td>BASE_TRIM</td>\n",
       "      <td>2.0</td>\n",
       "      <td>2018-1</td>\n",
       "      <td>15.075015</td>\n",
       "      <td>596</td>\n",
       "      <td>0.242279</td>\n",
       "    </tr>\n",
       "    <tr>\n",
       "      <th>6</th>\n",
       "      <td>w4HClcKnwrzCv8KgwrjDi8Klwr3Cm8KVwqfCrsKowprClg==</td>\n",
       "      <td>2018</td>\n",
       "      <td>8</td>\n",
       "      <td>2</td>\n",
       "      <td>0.0</td>\n",
       "      <td>30</td>\n",
       "      <td>0</td>\n",
       "      <td>12.0</td>\n",
       "      <td>248.062500</td>\n",
       "      <td>6.0</td>\n",
       "      <td>54.0</td>\n",
       "      <td>0</td>\n",
       "      <td>Regal</td>\n",
       "      <td>BASE_TRIM</td>\n",
       "      <td>2.0</td>\n",
       "      <td>2018-1</td>\n",
       "      <td>15.307328</td>\n",
       "      <td>596</td>\n",
       "      <td>0.241633</td>\n",
       "    </tr>\n",
       "  </tbody>\n",
       "</table>\n",
       "</div>"
      ],
      "text/plain": [
       "                                                 id  yr_nbr  week_nbr  \\\n",
       "1  w4HClcKnwrzCv8KgwrjDi8Klwr3Cm8KVwqfCrsKowprClg==    2018         3   \n",
       "2  w4HClcKnwrzCv8KgwrjDi8Klwr3Cm8KVwqfCrsKowprClg==    2018         4   \n",
       "3  w4HClcKnwrzCv8KgwrjDi8Klwr3Cm8KVwqfCrsKowprClg==    2018         5   \n",
       "5  w4HClcKnwrzCv8KgwrjDi8Klwr3Cm8KVwqfCrsKowprClg==    2018         7   \n",
       "6  w4HClcKnwrzCv8KgwrjDi8Klwr3Cm8KVwqfCrsKowprClg==    2018         8   \n",
       "\n",
       "   mth_nbr  mro_new  hard_braking  hard_acceleration  speeding_sum  \\\n",
       "1        1      0.0             1                  0           4.0   \n",
       "2        1      0.0            39                  5          21.0   \n",
       "3        1      0.0            60                 12          33.0   \n",
       "5        2      0.0            38                  5          22.0   \n",
       "6        2      0.0            30                  0          12.0   \n",
       "\n",
       "   day_mileage  est_hh_incm_prmr_cd  purchaser_age_at_tm_of_purch  \\\n",
       "1    32.968750                  6.0                          54.0   \n",
       "2   319.812500                  6.0                          54.0   \n",
       "3   541.687500                  6.0                          54.0   \n",
       "5   267.828125                  6.0                          54.0   \n",
       "6   248.062500                  6.0                          54.0   \n",
       "\n",
       "   input_indiv_gndr_prmr_cd gmqualty_model umf_xref_finc_gbl_trim  engn_size  \\\n",
       "1                         0          Regal              BASE_TRIM        2.0   \n",
       "2                         0          Regal              BASE_TRIM        2.0   \n",
       "3                         0          Regal              BASE_TRIM        2.0   \n",
       "5                         0          Regal              BASE_TRIM        2.0   \n",
       "6                         0          Regal              BASE_TRIM        2.0   \n",
       "\n",
       "  purchase_time       tavg  record_days  random_avg_traffic  \n",
       "1        2018-1  15.092748          596            0.246767  \n",
       "2        2018-1  15.273847          596            0.246881  \n",
       "3        2018-1  15.005342          596            0.243615  \n",
       "5        2018-1  15.075015          596            0.242279  \n",
       "6        2018-1  15.307328          596            0.241633  "
      ]
     },
     "execution_count": 25,
     "metadata": {},
     "output_type": "execute_result"
    }
   ],
   "source": [
    "weekly_level_filter_1.head()"
   ]
  },
  {
   "cell_type": "code",
   "execution_count": 28,
   "metadata": {},
   "outputs": [
    {
     "data": {
      "text/plain": [
       "58839"
      ]
     },
     "execution_count": 28,
     "metadata": {},
     "output_type": "execute_result"
    }
   ],
   "source": [
    "weekly_level_filter_1['record_weeks'] = weekly_level_filter.groupby('id')['id'].transform('size')\n",
    "filtered_df = weekly_level_filter_1[weekly_level_filter_1['record_weeks'] >= 16]\n",
    "len(filtered_df['id'].unique())"
   ]
  },
  {
   "cell_type": "code",
   "execution_count": 29,
   "metadata": {},
   "outputs": [
    {
     "data": {
      "text/plain": [
       "(19, 66.16711107927303, 104)"
      ]
     },
     "execution_count": 29,
     "metadata": {},
     "output_type": "execute_result"
    }
   ],
   "source": [
    "filtered_df['record_weeks'].min(), filtered_df['record_weeks'].mean(), filtered_df['record_weeks'].max()"
   ]
  },
  {
   "cell_type": "code",
   "execution_count": 30,
   "metadata": {},
   "outputs": [],
   "source": [
    "weekly_level_filter_2 = filtered_df.drop('record_days',axis=1)\n",
    "weekly_level_filter_2 = filtered_df.drop('record_weeks',axis=1)"
   ]
  },
  {
   "cell_type": "code",
   "execution_count": 31,
   "metadata": {},
   "outputs": [],
   "source": [
    "weekly_level_filter_2.to_csv('weekly_filter_new_2.csv')"
   ]
  }
 ],
 "metadata": {
  "kernelspec": {
   "display_name": "mro",
   "language": "python",
   "name": "python3"
  },
  "language_info": {
   "codemirror_mode": {
    "name": "ipython",
    "version": 3
   },
   "file_extension": ".py",
   "mimetype": "text/x-python",
   "name": "python",
   "nbconvert_exporter": "python",
   "pygments_lexer": "ipython3",
   "version": "3.11.11"
  }
 },
 "nbformat": 4,
 "nbformat_minor": 2
}
