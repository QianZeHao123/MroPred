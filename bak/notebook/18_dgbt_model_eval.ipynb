{
 "cells": [
  {
   "cell_type": "code",
   "execution_count": 1,
   "id": "dd88fc30",
   "metadata": {},
   "outputs": [],
   "source": [
    "import pandas as pd\n",
    "import lightgbm as lgb"
   ]
  },
  {
   "cell_type": "code",
   "execution_count": 2,
   "id": "45cb661d",
   "metadata": {},
   "outputs": [],
   "source": [
    "data_path = './Data/data_lgbm_db1_mp1_pt1_aw1_tw8.gzip'\n",
    "data_lgbm = pd.read_parquet(data_path)\n",
    "\n",
    "def prepare_data(data: pd.DataFrame):\n",
    "    \"\"\"Load and split the dataset into train, validation, and test sets.\"\"\"\n",
    "\n",
    "    train_dataset = data[data[\"group\"] == \"train\"]\n",
    "    valid_dataset = data[data[\"group\"] == \"valid\"]\n",
    "    test_dataset = data[data[\"group\"] == \"test\"]\n",
    "\n",
    "    train_dataset = train_dataset.drop([\"group\", \"id\"], axis=1)\n",
    "    valid_dataset = valid_dataset.drop([\"group\", \"id\"], axis=1)\n",
    "    test_dataset = test_dataset.drop([\"group\", \"id\"], axis=1)\n",
    "\n",
    "    return train_dataset, valid_dataset, test_dataset\n",
    "\n",
    "train_dataset, valid_dataset, test_dataset = prepare_data(data_lgbm)"
   ]
  },
  {
   "cell_type": "code",
   "execution_count": 3,
   "id": "2dc09030",
   "metadata": {},
   "outputs": [],
   "source": [
    "booster = lgb.Booster(\n",
    "    model_file=\"./output/lgbm/model_lgbm_gbdt_db1_mp1_pt1_aw1_tw8.txt\"\n",
    ")"
   ]
  },
  {
   "cell_type": "code",
   "execution_count": 4,
   "id": "98059818",
   "metadata": {},
   "outputs": [
    {
     "name": "stdout",
     "output_type": "stream",
     "text": [
      "\n",
      "Evaluation on Test Set:\n",
      "Accuracy:  0.7108\n",
      "Precision: 0.0726\n",
      "Recall:    0.4317\n",
      "F1 Score:  0.1244\n"
     ]
    }
   ],
   "source": [
    "from sklearn.metrics import f1_score, precision_score, recall_score, accuracy_score\n",
    "\n",
    "\n",
    "def get_X_y(df):\n",
    "    X = df.drop(\"target_mro\", axis=1)\n",
    "    y = df[\"target_mro\"]\n",
    "    return X, y\n",
    "\n",
    "\n",
    "X_train, y_train = get_X_y(train_dataset)\n",
    "X_valid, y_valid = get_X_y(valid_dataset)\n",
    "X_test, y_test = get_X_y(test_dataset)\n",
    "\n",
    "\n",
    "def predict_and_eval(booster, X, y_true, dataset_name=\"dataset\"):\n",
    "    y_prob = booster.predict(X)\n",
    "    y_pred = (y_prob >= 0.5).astype(int)\n",
    "\n",
    "    acc = accuracy_score(y_true, y_pred)\n",
    "    precision = precision_score(y_true, y_pred, zero_division=0)\n",
    "    recall = recall_score(y_true, y_pred, zero_division=0)\n",
    "    f1 = f1_score(y_true, y_pred, zero_division=0)\n",
    "\n",
    "    print(f\"\\nEvaluation on {dataset_name}:\")\n",
    "    print(f\"Accuracy:  {acc:.4f}\")\n",
    "    print(f\"Precision: {precision:.4f}\")\n",
    "    print(f\"Recall:    {recall:.4f}\")\n",
    "    print(f\"F1 Score:  {f1:.4f}\")\n",
    "\n",
    "    result_df = pd.DataFrame(\n",
    "        {\"y_true\": y_true.values, \"y_prob\": y_prob, \"y_pred\": y_pred}\n",
    "    )\n",
    "\n",
    "    return acc, precision, recall, f1, result_df\n",
    "\n",
    "\n",
    "# predict_and_eval(booster, X_train, y_train, \"Train Set\")\n",
    "# predict_and_eval(booster, X_valid, y_valid, \"Validation Set\")\n",
    "# predict_and_eval(booster, X_test, y_test, \"Test Set\")\n",
    "acc, precision, recall, f1, df_result = predict_and_eval(\n",
    "    booster, X_test, y_test, \"Test Set\"\n",
    ")"
   ]
  },
  {
   "cell_type": "code",
   "execution_count": null,
   "id": "85990c83",
   "metadata": {},
   "outputs": [],
   "source": []
  }
 ],
 "metadata": {
  "kernelspec": {
   "display_name": "mro",
   "language": "python",
   "name": "python3"
  },
  "language_info": {
   "codemirror_mode": {
    "name": "ipython",
    "version": 3
   },
   "file_extension": ".py",
   "mimetype": "text/x-python",
   "name": "python",
   "nbconvert_exporter": "python",
   "pygments_lexer": "ipython3",
   "version": "3.11.8"
  }
 },
 "nbformat": 4,
 "nbformat_minor": 5
}
