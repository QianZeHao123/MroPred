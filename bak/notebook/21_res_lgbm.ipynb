{
 "cells": [
  {
   "cell_type": "code",
   "execution_count": null,
   "id": "654e7a05",
   "metadata": {},
   "outputs": [],
   "source": [
    "import numpy as np\n",
    "import pandas as pd\n",
    "import lightgbm as lgb\n",
    "\n",
    "from sklearn.metrics import (\n",
    "    f1_score,\n",
    "    accuracy_score,\n",
    "    recall_score,\n",
    "    precision_score,\n",
    ")\n",
    "\n",
    "import os"
   ]
  },
  {
   "cell_type": "code",
   "execution_count": null,
   "id": "bc3a030d",
   "metadata": {},
   "outputs": [],
   "source": [
    "lgbm_res_data_path = \"./output/lgbm/lgbm_combined_results.csv\"\n",
    "lgbm_res_data = pd.read_csv(lgbm_res_data_path)\n",
    "\n",
    "lgbm_perf_file_path = \"./output/lgbm/lgbm_perf_results.csv\""
   ]
  },
  {
   "cell_type": "code",
   "execution_count": 3,
   "id": "82bb3cb9",
   "metadata": {},
   "outputs": [],
   "source": [
    "def prepare_data(data: pd.DataFrame):\n",
    "    \"\"\"Load and split the dataset into train, validation, and test sets.\"\"\"\n",
    "\n",
    "    train_dataset = data[data[\"group\"] == \"train\"]\n",
    "    valid_dataset = data[data[\"group\"] == \"valid\"]\n",
    "    test_dataset = data[data[\"group\"] == \"test\"]\n",
    "\n",
    "    train_dataset = train_dataset.drop([\"group\", \"id\"], axis=1)\n",
    "    valid_dataset = valid_dataset.drop([\"group\", \"id\"], axis=1)\n",
    "    test_dataset = test_dataset.drop([\"group\", \"id\"], axis=1)\n",
    "\n",
    "    return train_dataset, valid_dataset, test_dataset"
   ]
  },
  {
   "cell_type": "code",
   "execution_count": null,
   "id": "e28c71b2",
   "metadata": {},
   "outputs": [
    {
     "name": "stdout",
     "output_type": "stream",
     "text": [
      "Start to analysis trial: Our Model RF\n",
      "Best Threshold: 0.97, Best F1 Score: 0.0969\n"
     ]
    }
   ],
   "source": [
    "for index, trial in lgbm_res_data.iterrows():\n",
    "    # print(trial['Trial Name'])\n",
    "    print(\"Start to analysis trial:\", trial[\"Trial Name\"])\n",
    "    trial_name = trial[\"Trial Name\"]\n",
    "    test_auc = trial[\"Test AUC\"]\n",
    "    # ----------------------------------------\n",
    "    # load the LightGBM model\n",
    "    trial_model_path = trial[\"Best Model Path\"]\n",
    "    trail_model = lgb.Booster(model_file=trial_model_path)\n",
    "    # ----------------------------------------\n",
    "    # load the data\n",
    "    trial_data = pd.read_parquet(trial[\"Data Path\"])\n",
    "    train_dataset, valid_dataset, test_dataset = prepare_data(trial_data)\n",
    "    train_X = train_dataset.drop(columns=[\"target_mro\"], axis=1)\n",
    "\n",
    "    train_y = train_dataset[\"target_mro\"]\n",
    "    train_pred = trail_model.predict(train_X)\n",
    "\n",
    "    # ----------------------------------------\n",
    "    # get best threshold from training set\n",
    "    best_threshold = 0.5\n",
    "    best_f1 = 0.0\n",
    "    thresholds = np.arange(0.02, 0.98, 0.01)\n",
    "\n",
    "    for threshold in thresholds:\n",
    "        preds = (np.array(train_pred) > threshold).astype(int)\n",
    "        f1 = f1_score(train_y, preds)\n",
    "        if f1 > best_f1:\n",
    "            best_f1 = f1\n",
    "            best_threshold = threshold\n",
    "\n",
    "    print(f\"Best Threshold: {best_threshold:.2f}, Best F1 Score: {best_f1:.4f}\")\n",
    "\n",
    "    # ----------------------------------------\n",
    "    # apply best threshold to test set\n",
    "    test_X = test_dataset.drop(columns=[\"target_mro\"], axis=1)\n",
    "    test_y = test_dataset[\"target_mro\"]\n",
    "\n",
    "    test_pred = trail_model.predict(test_X)\n",
    "    test_res = (np.array(test_pred) > best_threshold).astype(int)\n",
    "\n",
    "    test_f1 = f1_score(test_y, test_res)\n",
    "    test_accuracy = accuracy_score(test_y, test_res)\n",
    "    test_recall = recall_score(test_y, test_res)\n",
    "    test_precision = precision_score(test_y, test_res)\n",
    "\n",
    "    results_df = pd.DataFrame(\n",
    "        {\n",
    "            \"Trial Name\": [trial_name],\n",
    "            \"Best Threshold\": [best_threshold],\n",
    "            \"Best Test F1\": [test_f1],\n",
    "            \"Best Test Accuracy\": [test_accuracy],\n",
    "            \"Best Test Recall\": [test_recall],\n",
    "            \"Best Test Precision\": [test_precision],\n",
    "            \"Test AUC Score\": [test_auc],\n",
    "        }\n",
    "    )\n",
    "    results_df.to_csv(\n",
    "        lgbm_perf_file_path,\n",
    "        mode=\"a\",\n",
    "        index=False,\n",
    "        header=not os.path.isfile(lgbm_perf_file_path),\n",
    "    )"
   ]
  },
  {
   "cell_type": "code",
   "execution_count": null,
   "id": "a3d90a32",
   "metadata": {},
   "outputs": [],
   "source": []
  }
 ],
 "metadata": {
  "kernelspec": {
   "display_name": "mro",
   "language": "python",
   "name": "python3"
  },
  "language_info": {
   "codemirror_mode": {
    "name": "ipython",
    "version": 3
   },
   "file_extension": ".py",
   "mimetype": "text/x-python",
   "name": "python",
   "nbconvert_exporter": "python",
   "pygments_lexer": "ipython3",
   "version": "3.11.11"
  }
 },
 "nbformat": 4,
 "nbformat_minor": 5
}
