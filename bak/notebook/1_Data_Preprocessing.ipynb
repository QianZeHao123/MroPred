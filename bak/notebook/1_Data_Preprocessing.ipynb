{
 "cells": [
  {
   "cell_type": "markdown",
   "metadata": {},
   "source": [
    "# Data Preprocessing"
   ]
  },
  {
   "cell_type": "code",
   "execution_count": null,
   "metadata": {},
   "outputs": [],
   "source": [
    "import pandas as pd\n",
    "from tqdm import tqdm\n",
    "\n",
    "tqdm.pandas()\n",
    "file_name = \"./Data/mro_daily_clean.csv\""
   ]
  },
  {
   "cell_type": "code",
   "execution_count": null,
   "metadata": {},
   "outputs": [],
   "source": [
    "data = pd.read_csv(file_name, index_col=0, engine=\"pyarrow\")\n",
    "data"
   ]
  },
  {
   "cell_type": "code",
   "execution_count": null,
   "metadata": {},
   "outputs": [],
   "source": [
    "data_columns_name_lst = data.columns.tolist()\n",
    "data_columns_lst_len = len(data_columns_name_lst)\n",
    "print(\"The columns of the data are: \", data_columns_name_lst)\n",
    "print(\"The number of columns of the data are: \", data_columns_lst_len)"
   ]
  },
  {
   "cell_type": "markdown",
   "metadata": {},
   "source": [
    "This dataset contains the following columns, which can be categorized into several groups:\n",
    "\n",
    "1. Time-related Columns (4)\n",
    "\t* yr_nbr – Year of the event (e.g., 2023, 2024).\n",
    "\t* mth_nbr – Month of the event (ranging from 1 to 12).\n",
    "\t* week_nbr – Week number of the event (ranging from 1 to 52).\n",
    "\t* week_day – Day of the week when the event occurred (0 to 6 or 1 to 7, where 0 or 1 typically represents Monday).\n",
    "\n",
    "2. Driving Behavior-related Columns (9)\n",
    "\t* hard_braking – Number or intensity of hard braking events.\n",
    "\t* mild_hb – Number or intensity of mild braking events.\n",
    "\t* hard_braking2 – Possibly another measure of hard braking events under different conditions.\n",
    "\t* harsh_hb – Number or intensity of harsh braking events.\n",
    "\t* very_harsh_hb – Number or intensity of very harsh braking events.\n",
    "\t* hard_acceleration – Number or intensity of hard acceleration events.\n",
    "\t* mild_ha – Number or intensity of mild acceleration events.\n",
    "\t* harsh_ha – Number or intensity of harsh acceleration events.\n",
    "\t* very_harsh_ha – Number or intensity of very harsh acceleration events.\n",
    "\n",
    "3. Driver-related Columns (3)\n",
    "\t* est_hh_incm_prmr_cd – Estimated primary household income level or code of the driver.\n",
    "\t* purchaser_age_at_tm_of_purch – Age of the purchaser at the time of purchase.\n",
    "\t* input_indiv_gndr_prmr_cd – Gender code of the driver (e.g., M for male, F for female).\n",
    "\n",
    "4. Vehicle Information-related Columns (4)\n",
    "\t* gmqualty_model – Vehicle model or quality classification.\n",
    "\t* umf_xref_finc_gbl_trim – Vehicle configuration or trim level.\n",
    "\t* engn_size – Engine size (likely in liters or cubic centimeters).\n",
    "\t* vin_nbr_id – Vehicle Identification Number (VIN).\n",
    "\n",
    "5. Speed and Mileage-related Columns (3)\n",
    "\t* speeding_sum – Total number of speeding events or total distance driven while speeding.\n",
    "\t* speeding2_sum – Possibly another measure of speeding events (e.g., separating highway and urban driving).\n",
    "\t* day_mileage – Daily driving mileage (likely in kilometers or miles).\n",
    "\n",
    "6. Service and Maintenance-related Columns (9)\n",
    "\t* service_days – Total number of days the vehicle received maintenance or service.\n",
    "\t* battery_dummy – Indicator for battery service (1 = serviced, 0 = not serviced).\n",
    "\t* brake_dummy – Indicator for brake service.\n",
    "\t* tire_dummy – Indicator for tire service.\n",
    "\t* lof_dummy – Indicator for lube, oil, and filter service.\n",
    "\t* wiper_dummy – Indicator for wiper service.\n",
    "\t* filter_dummy – Indicator for air or oil filter service.\n",
    "\t* others – Indicator for other types of service.\n",
    "\t* **mro – Maintenance, rep\n",
    "\tair, and overhaul**, a bool target.\n",
    "\n",
    "7. Record-related Columns (3)\n",
    "\t* id – Unique identifier for the record.\n",
    "\t* day_indicator – Indicator for the specific day of the record (e.g., 1 for current day).\n",
    "\t* record_days – Total number of days of recorded data.\n",
    "\n",
    "8. Geographic Information-related Columns (4)\n",
    "\t* latitude1 – Latitude of the vehicle’s location.\n",
    "\t* longitude1 – Longitude of the vehicle’s location.\n",
    "\t* purchase_lat1 – Latitude of the purchase location.\n",
    "\t* purchase_lng1 – Longitude of the purchase location.\n",
    "\n",
    "9. Purchase Time-related Columns (2)\n",
    "\t* purchase_yr_nbr – Year of vehicle purchase.\n",
    "\t* purchase_mth_nbr – Month of vehicle purchase.\n",
    "\n",
    "10. External Environment-related Columns (2)\n",
    "\t* tavg – Average temperature (likely in degrees Celsius or Fahrenheit).\n",
    "\t* random_avg_traffic – Randomly sampled average traffic flow (may indicate traffic congestion level)."
   ]
  },
  {
   "cell_type": "markdown",
   "metadata": {},
   "source": [
    "## Explorational Data Analysis"
   ]
  },
  {
   "cell_type": "code",
   "execution_count": null,
   "metadata": {},
   "outputs": [],
   "source": [
    "data['gmqualty_model'].value_counts()"
   ]
  },
  {
   "cell_type": "code",
   "execution_count": null,
   "metadata": {},
   "outputs": [],
   "source": [
    "import plotly.express as px\n",
    "import pandas as pd\n",
    "\n",
    "# calculate the count and percentage\n",
    "model_counts = data[\"gmqualty_model\"].value_counts().reset_index()\n",
    "model_counts.columns = [\"gmqualty_model\", \"count\"]\n",
    "\n",
    "# calculate the percentage\n",
    "total = model_counts[\"count\"].sum()\n",
    "model_counts[\"percentage\"] = model_counts[\"count\"] / total * 100\n",
    "\n",
    "# set the threshold for the small categories, here we use 1%\n",
    "threshold = 0.5  # when the percentage is less than 1%, we will merge them into the \"Other\" category\n",
    "small_models = model_counts[model_counts[\"percentage\"] < threshold]\n",
    "large_models = model_counts[model_counts[\"percentage\"] >= threshold]\n",
    "\n",
    "# merge the small categories into the \"Other\" category\n",
    "other_count = small_models[\"count\"].sum()\n",
    "other_row = pd.DataFrame(\n",
    "    [[\"Other\", other_count, other_count / total * 100]], columns=model_counts.columns\n",
    ")\n",
    "final_df = pd.concat([large_models, other_row], ignore_index=True)\n",
    "\n",
    "# draw the pie chart\n",
    "fig = px.pie(\n",
    "    final_df,\n",
    "    names=\"gmqualty_model\",\n",
    "    values=\"count\",\n",
    "    title=\"The percentage of the GM Qualty Model\",\n",
    "    hole=0.3,\n",
    "    hover_data=[\"percentage\"],\n",
    "    labels={\"percentage\": \"Percentage (%)\"},\n",
    ")\n",
    "\n",
    "\n",
    "fig.update_layout(\n",
    "    width=750,\n",
    "    height=500,\n",
    "    margin=dict(l=50, r=50, t=50, b=50)\n",
    ")\n",
    "\n",
    "# show the plot\n",
    "fig.show()"
   ]
  },
  {
   "cell_type": "code",
   "execution_count": null,
   "metadata": {},
   "outputs": [],
   "source": [
    "mro_ratio = data.groupby('gmqualty_model')['mro'].mean().reset_index()\n",
    "mro_ratio.columns = ['gmqualty_model', 'mro_ratio']\n",
    "mro_ratio"
   ]
  },
  {
   "cell_type": "code",
   "execution_count": null,
   "metadata": {},
   "outputs": [],
   "source": [
    "import matplotlib.pyplot as plt\n",
    "import seaborn as sns\n",
    "\n",
    "\n",
    "# draw a bar plot to show the mro ratio of each gmqualty_model\n",
    "plt.figure(figsize=(12, 8))\n",
    "# set x-axis label size\n",
    "plt.xticks(fontsize=10, rotation=45)\n",
    "plt.grid()\n",
    "plt.xlabel(\"GM Qualty Model\")\n",
    "plt.ylabel(\"MRO Ratio\")\n",
    "sns.barplot(x=\"gmqualty_model\", y=\"mro_ratio\", data=mro_ratio)\n",
    "plt.title(\"MRO ratio of each gmqualty_model\")\n",
    "plt.show()"
   ]
  },
  {
   "cell_type": "code",
   "execution_count": null,
   "metadata": {},
   "outputs": [],
   "source": [
    "gm_data_full = data.groupby(\"gmqualty_model\").aggregate({\"gmqualty_model\": \"count\"})\n",
    "gm_mro_1 = (\n",
    "    data[data[\"gmqualty_model\"] == 1]\n",
    "    .groupby(\"gmqualty_model\")\n",
    "    .aggregate({\"gmqualty_model\": \"count\"})\n",
    ")"
   ]
  },
  {
   "cell_type": "code",
   "execution_count": null,
   "metadata": {},
   "outputs": [],
   "source": [
    "# when mro = 1, calculate the proportion of gmqualty_model\n",
    "data_mro_1 = data[data[\"mro\"] == 1]\n",
    "data_mro_1_gmqualty_model = data_mro_1.groupby(\"gmqualty_model\")\n",
    "# data_mro_1_gmqualty_model.aggregate({\"gmqualty_model\": \"count\"})\n",
    "data_mro_1_gmqualty_model.aggregate({\"gmqualty_model\": \"count\"})"
   ]
  },
  {
   "cell_type": "code",
   "execution_count": null,
   "metadata": {},
   "outputs": [],
   "source": [
    "# calculate the proportion of gmqualty_model when mro = 1\n",
    "mro_trend = data.groupby(['yr_nbr', 'mth_nbr'])['mro'].sum().reset_index()\n",
    "mro_trend['time'] = mro_trend['yr_nbr'].astype(str) + '-' + mro_trend['mth_nbr'].astype(str).str.zfill(2)\n",
    "\n",
    "\n",
    "# calculate the MRO trend of different car models\n",
    "mro_trend_by_model = data.groupby(['yr_nbr', 'mth_nbr', 'gmqualty_model'])['mro'].sum().reset_index()\n",
    "mro_trend_by_model['time'] = mro_trend_by_model['yr_nbr'].astype(str) + '-' + mro_trend_by_model['mth_nbr'].astype(str).str.zfill(2)\n",
    "\n",
    "# create a figure with two subplots\n",
    "fig, axes = plt.subplots(2, 1, figsize=(14, 12), sharex=True)\n",
    "\n",
    "# draw mro with full data\n",
    "sns.lineplot(ax=axes[0], data=mro_trend, x='time', y='mro', marker='o', color='b')\n",
    "axes[0].set_title('Overall MRO Trend Over Time')\n",
    "axes[0].set_ylabel('MRO Count')\n",
    "axes[0].grid(True)\n",
    "\n",
    "# draw mro with different car models\n",
    "sns.lineplot(ax=axes[1], data=mro_trend_by_model, x='time', y='mro', hue='gmqualty_model', marker='o')\n",
    "axes[1].set_title('MRO Trend Over Time by Car Model')\n",
    "axes[1].set_ylabel('MRO Count')\n",
    "axes[1].legend(title='Car Model', bbox_to_anchor=(1.05, 1), loc='upper left')\n",
    "axes[1].grid(True)\n",
    "\n",
    "# x-axis label\n",
    "plt.xticks(rotation=45)\n",
    "plt.xlabel('Time (Year-Month)')\n",
    "\n",
    "plt.tight_layout()\n",
    "plt.show()"
   ]
  },
  {
   "cell_type": "code",
   "execution_count": null,
   "metadata": {},
   "outputs": [],
   "source": [
    "mro_overall = data.groupby([\"yr_nbr\", \"mth_nbr\"])[\"mro\"].mean().reset_index()\n",
    "mro_overall[\"gmqualty_model\"] = \"Overall\"  # 添加标识，代表整体\n",
    "\n",
    "\n",
    "mro_model = (\n",
    "    data.groupby([\"yr_nbr\", \"mth_nbr\", \"gmqualty_model\"])[\"mro\"].mean().reset_index()\n",
    ")\n",
    "\n",
    "# 合并整体数据和车型数据\n",
    "mro_combined = pd.concat([mro_overall, mro_model])\n",
    "\n",
    "mro_combined[\"time\"] = (\n",
    "    mro_combined[\"yr_nbr\"].astype(str)\n",
    "    + \"-\"\n",
    "    + mro_combined[\"mth_nbr\"].astype(str).str.zfill(2)\n",
    ")\n",
    "\n",
    "plt.figure(figsize=(16, 9))\n",
    "sns.lineplot(\n",
    "    data=mro_combined[mro_combined[\"gmqualty_model\"] != \"Overall\"],\n",
    "    x=\"time\",\n",
    "    y=\"mro\",\n",
    "    hue=\"gmqualty_model\",\n",
    "    marker=\"o\",\n",
    "    linewidth=2,\n",
    "    alpha=0.7,\n",
    ")\n",
    "\n",
    "sns.lineplot(\n",
    "    data=mro_combined[mro_combined[\"gmqualty_model\"] == \"Overall\"],\n",
    "    x=\"time\",\n",
    "    y=\"mro\",\n",
    "    color=\"black\",\n",
    "    label=\"Overall\",\n",
    "    marker=\"o\",\n",
    "    linewidth=4,\n",
    ")\n",
    "\n",
    "plt.xticks(rotation=45)\n",
    "plt.xlabel(\"Time (Year-Month)\")\n",
    "plt.ylabel(\"MRO Ratio\")\n",
    "plt.title(\"MRO Ratio Over Time (Overall & By Car Model)\")\n",
    "plt.legend(title=\"Car Model\", bbox_to_anchor=(1.05, 1), loc=\"upper left\")\n",
    "plt.grid(True)\n",
    "plt.show()"
   ]
  },
  {
   "cell_type": "markdown",
   "metadata": {},
   "source": [
    "## Check Missing Values"
   ]
  },
  {
   "cell_type": "code",
   "execution_count": null,
   "metadata": {},
   "outputs": [],
   "source": [
    "# check the missing value in data\n",
    "data.isnull().sum()"
   ]
  },
  {
   "cell_type": "markdown",
   "metadata": {},
   "source": [
    "## Discussion: If We Need to Re-define MRO?"
   ]
  },
  {
   "cell_type": "code",
   "execution_count": null,
   "metadata": {},
   "outputs": [],
   "source": [
    "# 'battery_dummy', 'brake_dummy','tire_dummy', 'lof_dummy', 'wiper_dummy', 'filter_dummy', 'others'\n",
    "battery_dummy_sum = data[['battery_dummy']].sum().values[0]\n",
    "print(\"The proportion of battery_dummy is: \", battery_dummy_sum)\n",
    "brake_dummy_sum = data[['brake_dummy']].sum().values[0]\n",
    "print(\"The proportion of brake_dummy is: \", brake_dummy_sum)\n",
    "tire_dummy_sum = data[['tire_dummy']].sum().values[0]\n",
    "print(\"The proportion of tire_dummy is: \", tire_dummy_sum)\n",
    "lof_dummy_sum = data[['lof_dummy']].sum().values[0]\n",
    "print(\"The proportion of lof_dummy is: \", lof_dummy_sum)\n",
    "wiper_dummy_sum = data[['wiper_dummy']].sum().values[0]\n",
    "print(\"The proportion of wiper_dummy is: \", wiper_dummy_sum)\n",
    "filter_dummy_sum = data[['filter_dummy']].sum().values[0]\n",
    "print(\"The proportion of filter_dummy is: \", filter_dummy_sum)\n",
    "others_sum = data[['others']].sum().values[0]\n",
    "print(\"The proportion of others is: \", others_sum)"
   ]
  },
  {
   "cell_type": "code",
   "execution_count": null,
   "metadata": {},
   "outputs": [],
   "source": [
    "# 'battery_dummy', 'brake_dummy','tire_dummy', 'lof_dummy', 'wiper_dummy', 'filter_dummy', 'others'\n",
    "data[\"mro_new\"] = (\n",
    "    data[\"brake_dummy\"]\n",
    "    + data[\"battery_dummy\"]\n",
    "    + data[\"tire_dummy\"]\n",
    "    + data[\"lof_dummy\"]\n",
    "    + data[\"wiper_dummy\"]\n",
    "    + data[\"filter_dummy\"]\n",
    "    + data[\"others\"]\n",
    ")"
   ]
  },
  {
   "cell_type": "code",
   "execution_count": null,
   "metadata": {},
   "outputs": [],
   "source": [
    "print('The number of mro_new is: ', data['mro_new'].nunique())\n",
    "print('The value counts of mro_new is:\\n', data['mro_new'].value_counts())"
   ]
  },
  {
   "cell_type": "code",
   "execution_count": null,
   "metadata": {},
   "outputs": [],
   "source": [
    "from matplotlib import pyplot as plt\n",
    "from upsetplot import from_indicators, plot\n",
    "import warnings\n",
    "\n",
    "warnings.simplefilter(action=\"ignore\", category=FutureWarning)\n",
    "# create a new data frame for UpSet plot with the columns of interest only\n",
    "# transform the data type to boolean\n",
    "dummy_data = data[\n",
    "    [\n",
    "        \"battery_dummy\",\n",
    "        \"brake_dummy\",\n",
    "        \"tire_dummy\",\n",
    "        \"lof_dummy\",\n",
    "        \"wiper_dummy\",\n",
    "        \"filter_dummy\",\n",
    "        \"others\",\n",
    "    ]\n",
    "]\n",
    "# remove rows with all zeros and transform the data type to boolean\n",
    "dummy_data = dummy_data[dummy_data.any(axis=1)].astype(bool)\n",
    "\n",
    "# create the UpSet plot\n",
    "upset_data = from_indicators(dummy_data.columns, dummy_data)\n",
    "fig = plt.figure(figsize=(18, 12))\n",
    "plot(\n",
    "    upset_data,\n",
    "    fig=fig,\n",
    "    element_size=None,\n",
    "    orientation=\"horizontal\",\n",
    "    facecolor=\"darkblue\",\n",
    ")\n",
    "plt.title(\"UpSet plot of MRO categories\")\n",
    "plt.show()"
   ]
  },
  {
   "cell_type": "markdown",
   "metadata": {},
   "source": [
    "## Data Transfermation"
   ]
  },
  {
   "cell_type": "markdown",
   "metadata": {},
   "source": [
    "Combine `purchase_yr_nbr` and `purchase_mth_nbr` to make a new colomn standing for the `purchase_time`"
   ]
  },
  {
   "cell_type": "code",
   "execution_count": null,
   "metadata": {},
   "outputs": [],
   "source": [
    "data[\"purchase_time\"] = (\n",
    "    data[\"purchase_yr_nbr\"].astype(int).astype(str)\n",
    "    + \"_\"\n",
    "    + data[\"purchase_mth_nbr\"].astype(int).astype(str)\n",
    ")"
   ]
  },
  {
   "cell_type": "markdown",
   "metadata": {},
   "source": [
    "Robustness check: divide into `repair`/`maintenance`"
   ]
  },
  {
   "cell_type": "code",
   "execution_count": null,
   "metadata": {},
   "outputs": [],
   "source": [
    "import numpy as np\n",
    "\n",
    "# TODO: I don't know why we need to add this line\n",
    "data[\"maintenance\"] = np.where((data[\"mro\"] == 1) & (data[\"service_days\"] <= 3), 1, 0)\n",
    "data[\"repair\"] = np.where((data[\"mro\"] == 1) & (data[\"service_days\"] > 3), 1, 0)"
   ]
  },
  {
   "cell_type": "markdown",
   "metadata": {},
   "source": [
    "Robustness check: `traffic density`"
   ]
  },
  {
   "cell_type": "code",
   "execution_count": null,
   "metadata": {},
   "outputs": [],
   "source": [
    "data[\"traffic_count\"] = data.groupby(\n",
    "    [\"yr_nbr\", \"mth_nbr\", \"week_nbr\", \"week_day\", \"latitude1\", \"longitude1\"]\n",
    ")[\"yr_nbr\"].transform(\"size\")"
   ]
  },
  {
   "cell_type": "code",
   "execution_count": null,
   "metadata": {},
   "outputs": [],
   "source": []
  }
 ],
 "metadata": {
  "kernelspec": {
   "display_name": "mro",
   "language": "python",
   "name": "python3"
  },
  "language_info": {
   "codemirror_mode": {
    "name": "ipython",
    "version": 3
   },
   "file_extension": ".py",
   "mimetype": "text/x-python",
   "name": "python",
   "nbconvert_exporter": "python",
   "pygments_lexer": "ipython3",
   "version": "3.11.11"
  }
 },
 "nbformat": 4,
 "nbformat_minor": 2
}
